#!/bin/python3

import math
import os
import random
import re
import sys

#
# Complete the 'solve' function below.
#
# The function is expected to return an INTEGER.
# The function accepts INTEGER_ARRAY arr as parameter.
#

def solve(arr):
    # Write your code here
    n = len(arr)
    
    L = [0]*n
    R = [0]*n
    
    stack = []
    for i in range(n):
        while stack and arr[stack[-1]] <= arr[i]:
            stack.pop()
        if stack:
            L[i] = stack[-1]+1
        stack.append(i)
        
    stack2 = []
    for i in range(n-1, -1, -1):
        while stack2 and arr[stack2[-1]] <= arr[i]:
            stack2.pop()
        if stack2:
            R[i] = stack2[-1] + 1
        stack2.append(i)
        
    res = 0
    for i in range(n):
        res = max(res, L[i]*R[i])
    return res

if __name__ == '__main__':
    fptr = open(os.environ['OUTPUT_PATH'], 'w')

    arr_count = int(input().strip())

    arr = list(map(int, input().rstrip().split()))

    result = solve(arr)

    fptr.write(str(result) + '\n')

    fptr.close()
